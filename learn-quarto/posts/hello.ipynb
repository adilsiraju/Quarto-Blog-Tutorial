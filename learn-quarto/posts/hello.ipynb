{
 "cells": [
  {
   "cell_type": "markdown",
   "id": "8210822f",
   "metadata": {},
   "source": [
    "---\n",
    "title: \"Hello World!\"\n",
    "description: \"My first blog post with Quarto and Jupyter\"\n",
    "date: \"2025-09-17\"\n",
    "author: \"Adil\"\n",
    "categories: [tutorial, quarto]\n",
    "---\n",
    "\n",
    "## Hello!\n",
    "\n",
    "Welcome to my first blog post using Quarto and Jupyter notebooks!"
   ]
  },
  {
   "cell_type": "code",
   "execution_count": null,
   "id": "722911bb",
   "metadata": {},
   "outputs": [
    {
     "name": "stdout",
     "output_type": "stream",
     "text": [
      "Hello\n"
     ]
    }
   ],
   "source": [
    "print('Hello, World!')"
   ]
  }
 ],
 "metadata": {
  "kernelspec": {
   "display_name": "base",
   "language": "python",
   "name": "python3"
  },
  "language_info": {
   "codemirror_mode": {
    "name": "ipython",
    "version": 3
   },
   "file_extension": ".py",
   "mimetype": "text/x-python",
   "name": "python",
   "nbconvert_exporter": "python",
   "pygments_lexer": "ipython3",
   "version": "3.13.5"
  }
 },
 "nbformat": 4,
 "nbformat_minor": 5
}
