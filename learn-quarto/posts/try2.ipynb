{
 "cells": [
  {
   "cell_type": "markdown",
   "id": "96988eec",
   "metadata": {},
   "source": [
    "---\n",
    "title: \"Blog 2\"\n",
    "description: \"Blog post with Quarto and Jupyter - Day2\"\n",
    "date: \"2025-09-18\"\n",
    "author: \"Adil\"\n",
    "categories: [tutorial, quarto]\n",
    "---"
   ]
  },
  {
   "cell_type": "code",
   "execution_count": 1,
   "id": "2d34a4d4",
   "metadata": {},
   "outputs": [],
   "source": [
    "name = 'Adil'"
   ]
  },
  {
   "cell_type": "code",
   "execution_count": 2,
   "id": "ba253f6b",
   "metadata": {},
   "outputs": [
    {
     "name": "stdout",
     "output_type": "stream",
     "text": [
      "this is a blog by Adil\n"
     ]
    }
   ],
   "source": [
    "print(f'this is a blog by {name}')"
   ]
  }
 ],
 "metadata": {
  "kernelspec": {
   "display_name": "base",
   "language": "python",
   "name": "python3"
  },
  "language_info": {
   "codemirror_mode": {
    "name": "ipython",
    "version": 3
   },
   "file_extension": ".py",
   "mimetype": "text/x-python",
   "name": "python",
   "nbconvert_exporter": "python",
   "pygments_lexer": "ipython3",
   "version": "3.13.5"
  }
 },
 "nbformat": 4,
 "nbformat_minor": 5
}
