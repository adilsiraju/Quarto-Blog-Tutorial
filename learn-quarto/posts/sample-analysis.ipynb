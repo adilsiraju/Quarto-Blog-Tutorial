{
 "cells": [
  {
   "cell_type": "markdown",
   "id": "91710691",
   "metadata": {},
   "source": [
    "---\n",
    "title: \"Exploring Data Science with Python\"\n",
    "description: \"A sample analysis using pandas and matplotlib\"\n",
    "date: \"2025-09-17\"\n",
    "categories: [python, data-analysis, visualization]\n",
    "image: \"https://raw.githubusercontent.com/pandas-dev/pandas/main/web/pandas/static/img/pandas.svg\"\n",
    "---\n",
    "\n",
    "# Exploring Data Science with Python\n",
    "\n",
    "This is a sample blog post demonstrating how to create data science content using Jupyter notebooks and Quarto.\n",
    "\n",
    "## Setting Up\n",
    "\n",
    "First, let's import our required libraries:"
   ]
  },
  {
   "cell_type": "code",
   "execution_count": null,
   "id": "0b60d042",
   "metadata": {},
   "outputs": [],
   "source": [
    "import pandas as pd\n",
    "import matplotlib.pyplot as plt\n",
    "import seaborn as sns\n",
    "import numpy as np\n",
    "\n",
    "# Set the style for our plots\n",
    "plt.style.use('seaborn')"
   ]
  },
  {
   "cell_type": "markdown",
   "id": "814c28b4",
   "metadata": {},
   "source": [
    "## Creating Sample Data\n",
    "\n",
    "Let's create some sample data to analyze:"
   ]
  },
  {
   "cell_type": "code",
   "execution_count": null,
   "id": "eaebfe8a",
   "metadata": {},
   "outputs": [],
   "source": [
    "# Create sample data\n",
    "np.random.seed(42)\n",
    "dates = pd.date_range(start='2025-01-01', end='2025-12-31', freq='D')\n",
    "values = np.random.normal(loc=100, scale=15, size=len(dates))\n",
    "trend = np.linspace(0, 30, len(dates))\n",
    "\n",
    "df = pd.DataFrame({\n",
    "    'date': dates,\n",
    "    'value': values + trend\n",
    "})\n",
    "\n",
    "print(\"First few rows of our dataset:\")\n",
    "df.head()"
   ]
  },
  {
   "cell_type": "markdown",
   "id": "e6b6a494",
   "metadata": {},
   "source": [
    "## Data Visualization\n",
    "\n",
    "Now let's create a visualization to explore our data:"
   ]
  },
  {
   "cell_type": "code",
   "execution_count": null,
   "id": "e814b588",
   "metadata": {},
   "outputs": [],
   "source": [
    "# Create the plot\n",
    "plt.figure(figsize=(12, 6))\n",
    "plt.plot(df['date'], df['value'], color='#2ecc71', alpha=0.6)\n",
    "plt.title('Time Series Analysis', fontsize=14)\n",
    "plt.xlabel('Date')\n",
    "plt.ylabel('Value')\n",
    "plt.grid(True, alpha=0.3)\n",
    "\n",
    "# Add trend line\n",
    "z = np.polyfit(range(len(df)), df['value'], 1)\n",
    "p = np.poly1d(z)\n",
    "plt.plot(df['date'], p(range(len(df))), \"r--\", alpha=0.8, label='Trend')\n",
    "\n",
    "plt.legend()\n",
    "plt.show()"
   ]
  }
 ],
 "metadata": {
  "language_info": {
   "name": "python"
  }
 },
 "nbformat": 4,
 "nbformat_minor": 5
}
